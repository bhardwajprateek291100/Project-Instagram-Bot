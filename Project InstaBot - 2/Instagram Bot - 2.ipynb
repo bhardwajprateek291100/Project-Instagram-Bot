{
 "cells": [
  {
   "cell_type": "code",
   "execution_count": 4,
   "metadata": {},
   "outputs": [],
   "source": [
    "#import libraris\n",
    "import selenium\n",
    "from selenium import webdriver\n",
    "from selenium.common.exceptions import NoSuchElementException\n",
    "from selenium.webdriver.common.keys import Keys \n",
    "from selenium.webdriver.support.ui import WebDriverWait\n",
    "from selenium.webdriver.support import expected_conditions as EC\n",
    "from selenium.webdriver.common.by import By\n",
    "from bs4 import BeautifulSoup as bsp\n",
    "import bs4\n",
    "import time\n",
    "import pandas as pd"
   ]
  },
  {
   "cell_type": "code",
   "execution_count": 5,
   "metadata": {},
   "outputs": [],
   "source": [
    "## Username & Password\n",
    "username = \"prachi_bhardwaj29\"        ## fill it eg: SAMPLE USERNAME\n",
    "password = \"Richi29@\"                  ## fill it eg: SAMPLE PASSWORD"
   ]
  },
  {
   "cell_type": "code",
   "execution_count": 39,
   "metadata": {},
   "outputs": [],
   "source": [
    "#setting up driver\n",
    "path = \"/Users/bhard/Downloads/chromedriver_win32/chromedriver\"   ## depends on sytem\n",
    "driver = webdriver.Chrome(executable_path = path)\n",
    "driver.maximize_window()"
   ]
  },
  {
   "cell_type": "code",
   "execution_count": 40,
   "metadata": {},
   "outputs": [],
   "source": [
    "## opening site\n",
    "site = \"https://www.instagram.com/\"\n",
    "driver.get(site)"
   ]
  },
  {
   "cell_type": "markdown",
   "metadata": {},
   "source": [
    "## Log in to Instagram Handle"
   ]
  },
  {
   "cell_type": "code",
   "execution_count": 8,
   "metadata": {},
   "outputs": [],
   "source": [
    "## function for log in\n",
    "\n",
    "def log_in_to_account(driver, username, password):\n",
    "    \n",
    "    login = True\n",
    "    \n",
    "    wait = WebDriverWait(driver, 10)  ## explicit wait\n",
    "    \n",
    "    try:\n",
    "        ## move to login page\n",
    "        log_in_path = '//p[@class = \"izU2O\"]//a'\n",
    "        log_in = wait.until(EC.element_to_be_clickable((By.XPATH,log_in_path)))\n",
    "        log_in.click()\n",
    "\n",
    "        time.sleep(3)   ## waiting for website to switch\n",
    "\n",
    "        ## enter username\n",
    "        username_ = wait.until(EC.presence_of_element_located((By.NAME,\"username\")))\n",
    "        username_.send_keys(username)\n",
    "\n",
    "        ## enter password\n",
    "        password_ = wait.until(EC.presence_of_element_located((By.NAME,\"password\")))\n",
    "        password_.send_keys(password)\n",
    "\n",
    "        ## click login\n",
    "        log_in_path = '//button[contains(@class, \"sqdOP\")]'\n",
    "        log_in = wait.until(EC.presence_of_element_located((By.XPATH,log_in_path)))\n",
    "        log_in.submit()\n",
    "\n",
    "        time.sleep(3)  ## waiting for website to switch\n",
    "        \n",
    "    except Exception:\n",
    "        login = False\n",
    "        \n",
    "    if login:\n",
    "        remove_notification(driver, wait)\n",
    "    \n",
    "    return login\n",
    "\n",
    "def remove_notification(driver, wait):\n",
    "    ## Notifination popup setting up not now, if occur\n",
    "    try:\n",
    "        popup_path = '//button[contains(@class, \"HoLwm\")]'\n",
    "        not_now_btn = wait.until(EC.element_to_be_clickable((By.XPATH,popup_path)))\n",
    "        not_now_btn.click()\n",
    "    except NoSuchElementException:\n",
    "        print(\"No Notification Pop up occur\")"
   ]
  },
  {
   "cell_type": "markdown",
   "metadata": {},
   "source": [
    "## Searching Food "
   ]
  },
  {
   "cell_type": "code",
   "execution_count": 9,
   "metadata": {},
   "outputs": [],
   "source": [
    "## function to search something string like 'food' here\n",
    "\n",
    "def Search_Handle(driver, string):\n",
    "    \n",
    "    wait = WebDriverWait(driver, 10)       ## Explicit Wait\n",
    "    \n",
    "    ## search 'food' \n",
    "    search_path = '//input[contains(@class, \"x3qfX\")]'\n",
    "    search_bar = wait.until(EC.presence_of_element_located((By.XPATH,search_path)))\n",
    "    search_bar.send_keys(string)\n",
    "    time.sleep(3)\n",
    "    \n",
    "    ## Extracting the handles\n",
    "    handles = []\n",
    "    lst = driver.find_elements_by_class_name(\"Ap253\")\n",
    "    for i in lst:\n",
    "        handle = i.get_attribute(\"innerHTML\")\n",
    "        if handle[0] == \"#\":\n",
    "            handle = handle[1:]\n",
    "        handles.append(handle)\n",
    "        \n",
    "    ## Erasing string from search bar\n",
    "    path = '//div[contains(@class, \"coreSpriteSearchClear\")]'\n",
    "    remove_btn = wait.until(EC.element_to_be_clickable((By.XPATH,path)))\n",
    "    remove_btn.click()\n",
    "        \n",
    "    return handles"
   ]
  },
  {
   "cell_type": "markdown",
   "metadata": {},
   "source": [
    "## opening profile/handle"
   ]
  },
  {
   "cell_type": "code",
   "execution_count": 10,
   "metadata": {},
   "outputs": [],
   "source": [
    "## function for search_open the handle\n",
    "\n",
    "def open_profile(driver, profile):\n",
    "    \n",
    "    wait = WebDriverWait(driver, 10)       ## Explicit Wait\n",
    "\n",
    "    ## search profile\n",
    "    search_path = '//input[contains(@class, \"x3qfX\")]'\n",
    "    search_bar = wait.until(EC.presence_of_element_located((By.XPATH,search_path)))\n",
    "    search_bar.send_keys(profile)\n",
    "\n",
    "    ## open\n",
    "    path = '//a[contains(@class, \"yCE8d\")]'\n",
    "    btn = wait.until(EC.element_to_be_clickable((By.XPATH,path)))\n",
    "    btn.click()"
   ]
  },
  {
   "cell_type": "markdown",
   "metadata": {},
   "source": [
    "## closing profile/handle"
   ]
  },
  {
   "cell_type": "code",
   "execution_count": 11,
   "metadata": {},
   "outputs": [],
   "source": [
    "## function for closing profile or returning home page\n",
    "\n",
    "def close_profile(driver):\n",
    "    \n",
    "    wait = WebDriverWait(driver, 10)\n",
    "    home = wait.until(EC.element_to_be_clickable((By.XPATH, '//div[@class = \"oJZym\"]/a')))\n",
    "    home.click()"
   ]
  },
  {
   "cell_type": "markdown",
   "metadata": {},
   "source": [
    "## built string to int func"
   ]
  },
  {
   "cell_type": "code",
   "execution_count": 12,
   "metadata": {},
   "outputs": [],
   "source": [
    "## conversion from string to int as in instgram\n",
    "\n",
    "def string_int(string):\n",
    "    \n",
    "    total = \"\"\n",
    "    num = ['0','1','2','3','4','5','6','7','8','9']\n",
    "    for i in string:\n",
    "        if i in num:\n",
    "            total += i\n",
    "    total = int(total)\n",
    "    return total\n"
   ]
  },
  {
   "cell_type": "markdown",
   "metadata": {},
   "source": [
    "## decreasing order according to no of followers"
   ]
  },
  {
   "cell_type": "code",
   "execution_count": 48,
   "metadata": {},
   "outputs": [],
   "source": [
    "def decreasing_no_of_followers(driver, handles):\n",
    "    \n",
    "    ## store the no_of_followers and handles\n",
    "    answer_list = []   \n",
    "    \n",
    "    wait = WebDriverWait(driver, 5)  ## explixit wait\n",
    "    \n",
    "    for profile in handles:\n",
    "        \n",
    "        open_profile(driver, profile)  ## opening profile\n",
    "        time.sleep(3)\n",
    "        try:\n",
    "            ## extracting number of followers\n",
    "            string =driver.find_elements_by_xpath(\"//span[contains(@class, 'g47SY')]\")[1].get_attribute(\"title\")\n",
    "            \n",
    "            ## integer total followers\n",
    "            total = string_int(string)\n",
    "            \n",
    "        except Exception:\n",
    "            total = 0\n",
    "        \n",
    "        answer_list.append((total,profile))\n",
    "        time.sleep(3)\n",
    "        close_profile(driver)     ## closing profile\n",
    "        \n",
    "    sorted(answer_list, reverse = True)\n",
    "    \n",
    "    return answer_list"
   ]
  },
  {
   "cell_type": "code",
   "execution_count": 41,
   "metadata": {},
   "outputs": [
    {
     "name": "stdout",
     "output_type": "stream",
     "text": [
      "log in successfully\n"
     ]
    }
   ],
   "source": [
    "## logging in\n",
    "\n",
    "login = log_in_to_account(driver, username, password)\n",
    "if login:\n",
    "    print(\"log in successfully\")\n",
    "else:\n",
    "    print(\"log in unseccussful, give one more try\")"
   ]
  },
  {
   "cell_type": "code",
   "execution_count": 42,
   "metadata": {},
   "outputs": [
    {
     "name": "stdout",
     "output_type": "stream",
     "text": [
      "1 . foodporn\n",
      "2 . food\n",
      "3 . foodtalkindia\n",
      "4 . foodphotography\n",
      "5 . foodstagram\n",
      "6 . foodie\n",
      "7 . dilsefoodie\n",
      "8 . foodblogger\n",
      "9 . foodies\n",
      "10 . food.darzee\n"
     ]
    }
   ],
   "source": [
    "## searching\n",
    "\n",
    "string = \"food\"     ## can be changed\n",
    "handle_list = Search_Handle(driver, string)\n",
    "\n",
    "first_10 = handle_list[:10]    ## Extracting first 10\n",
    "\n",
    "## printing\n",
    "cnt = 1\n",
    "for i in first_10:\n",
    "    print(cnt, \".\", i)\n",
    "    cnt += 1"
   ]
  },
  {
   "cell_type": "code",
   "execution_count": 49,
   "metadata": {},
   "outputs": [
    {
     "name": "stdout",
     "output_type": "stream",
     "text": [
      "1 . (0, 'foodporn')\n",
      "2 . (0, 'food')\n",
      "3 . (289860, 'foodtalkindia')\n",
      "4 . (0, 'foodphotography')\n",
      "5 . (0, 'foodstagram')\n"
     ]
    }
   ],
   "source": [
    "## arranging the handles w.r.t number of followers (decreasing order)\n",
    "\n",
    "handles = decreasing_no_of_followers(driver, first_10) \n",
    "\n",
    "top_5 = handles[:5]    ## extracting the top 5\n",
    "\n",
    "## printing\n",
    "cnt = 1\n",
    "for i in top_5:\n",
    "    print(cnt, \".\", i)\n",
    "    cnt += 1"
   ]
  }
 ],
 "metadata": {
  "kernelspec": {
   "display_name": "Python 3",
   "language": "python",
   "name": "python3"
  },
  "language_info": {
   "codemirror_mode": {
    "name": "ipython",
    "version": 3
   },
   "file_extension": ".py",
   "mimetype": "text/x-python",
   "name": "python",
   "nbconvert_exporter": "python",
   "pygments_lexer": "ipython3",
   "version": "3.6.5"
  }
 },
 "nbformat": 4,
 "nbformat_minor": 2
}
